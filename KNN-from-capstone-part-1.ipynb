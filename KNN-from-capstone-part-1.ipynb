{
 "cells": [
  {
   "cell_type": "markdown",
   "id": "MBIPlgwErdKj",
   "metadata": {
    "id": "MBIPlgwErdKj"
   },
   "source": [
    "# [Capstone Project] ML for Healthcare\n",
    "# Ramisha Mahiyat\n",
    "# MODEL-KNN\n",
    "\n",
    "\n"
   ]
  },
  {
   "cell_type": "code",
   "execution_count": 3,
   "id": "0a9a2b9a",
   "metadata": {
    "colab": {
     "base_uri": "https://localhost:8080/"
    },
    "id": "0a9a2b9a",
    "outputId": "6899518b-e09c-4486-96a1-8d39706cd073"
   },
   "outputs": [
    {
     "name": "stdout",
     "output_type": "stream",
     "text": [
      "First sample:\n",
      " [ 0.         -0.11252183 -2.8272038  -3.7738969  -4.3497511  -4.376041\n",
      " -3.4749863  -2.1814082  -1.8182865  -1.2505219  -0.47749208 -0.36380791\n",
      " -0.49195659 -0.42185509 -0.30920086 -0.4959387  -0.34211867 -0.35533627\n",
      " -0.36791303 -0.31650279 -0.41237405 -0.47167181 -0.41345783 -0.36461703\n",
      " -0.44929829 -0.47141866 -0.42477658 -0.46251673 -0.55247236 -0.47537519\n",
      " -0.6942     -0.7018681  -0.59381178 -0.66068415 -0.71383066 -0.76980688\n",
      " -0.67228161 -0.65367605 -0.63940562 -0.55930228 -0.59167032 -0.49322332\n",
      " -0.46305183 -0.30164382 -0.23273401 -0.12505488 -0.15394314 -0.0243574\n",
      " -0.06560876  0.03499926  0.06193522  0.07119542  0.12392505  0.10312371\n",
      "  0.22522849  0.12868305  0.30248315  0.25727621  0.19635161  0.17938297\n",
      "  0.24472863  0.34121687  0.32820441  0.40604169  0.44660507  0.42406823\n",
      "  0.48151204  0.4778438   0.62408259  0.57458456  0.59801319  0.5645919\n",
      "  0.607979    0.62063457  0.65625291  0.68474806  0.69427284  0.66558377\n",
      "  0.57579577  0.63813479  0.61491695  0.56908343  0.46857572  0.44281777\n",
      "  0.46827436  0.43249295  0.40795792  0.41862256  0.36253075  0.41095901\n",
      "  0.47166633  0.37216676  0.33787543  0.22140511  0.27399747  0.29866408\n",
      "  0.26356357  0.34256352  0.41950529  0.58660736  0.86062387  1.1733446\n",
      "  1.2581791   1.4337887   1.7005334   1.9990431   2.1253411   1.9932907\n",
      "  1.9322463   1.7974367   1.5222839   1.2511679   0.99873034  0.48372242\n",
      "  0.02313229 -0.19491383 -0.22091729 -0.24373668 -0.25469462 -0.29113555\n",
      " -0.25649034 -0.22787425 -0.32242276 -0.28928586 -0.31816951 -0.36365359\n",
      " -0.39345584 -0.26641886 -0.25682316 -0.28869399 -0.16233755  0.16034772\n",
      "  0.79216787  0.93354122  0.79695779  0.57862066  0.2577399   0.22807718\n",
      "  0.12343082  0.92528624  0.19313742]\n",
      "First feature of the 10th sample: -0.83228111\n"
     ]
    }
   ],
   "source": [
    "\n",
    "\n",
    "import pandas as pd\n",
    "import numpy as np\n",
    "import matplotlib.pyplot as plt\n",
    "\n",
    "\n",
    "from sklearn.decomposition import PCA\n",
    "from sklearn.metrics import (\n",
    "    accuracy_score, precision_score, recall_score, f1_score, roc_auc_score,\n",
    "    confusion_matrix\n",
    ")\n",
    "from sklearn.preprocessing import StandardScaler, label_binarize\n",
    "from sklearn.neighbors import KNeighborsClassifier\n",
    "\n",
    "\n",
    "# Load the pickle files\n",
    "train_data = pd.read_pickle('ECG5000_train.pickle')\n",
    "val_data = pd.read_pickle('ECG5000_validation.pickle')\n",
    "#train_data = pd.read_csv('ECG5000_TRAIN.txt', sep='\\s+', header=None)\n",
    "#val_data = pd.read_csv('ECG5000_TEST.txt', sep='\\s+', header=None)\n",
    "\n",
    "# Store in dictionary\n",
    "ECGdataset = {\n",
    "    'train': train_data,\n",
    "    'validation': val_data\n",
    "}\n",
    "print(\"First sample:\\n\", ECGdataset['train'][0])\n",
    "print(\"First feature of the 10th sample:\", ECGdataset['train'][9][1])"
   ]
  },
  {
   "cell_type": "code",
   "execution_count": 4,
   "id": "t9YsdysaLoEM",
   "metadata": {
    "colab": {
     "base_uri": "https://localhost:8080/"
    },
    "id": "t9YsdysaLoEM",
    "outputId": "5ae94238-6782-4d0c-e834-bb3eb9ce37e6"
   },
   "outputs": [
    {
     "name": "stdout",
     "output_type": "stream",
     "text": [
      "First sample after preprocessing:\n",
      "[ 0.          0.04088813 -0.90129978 -0.95168624 -0.94502776 -1.06376367\n",
      " -0.63707941  0.15037238 -0.03151738  0.30510472]\n"
     ]
    }
   ],
   "source": [
    "from sklearn.preprocessing import StandardScaler\n",
    "import numpy as np\n",
    "\n",
    "# Extract features and labels\n",
    "X_train = ECGdataset['train'][:, 1:]\n",
    "y_train = ECGdataset['train'][:, 0]\n",
    "X_val = ECGdataset['validation'][:, 1:]\n",
    "y_val = ECGdataset['validation'][:, 0]\n",
    "\n",
    "# Scale features\n",
    "scaler = StandardScaler()\n",
    "X_train_scaled = scaler.fit_transform(X_train)\n",
    "X_val_scaled = scaler.transform(X_val)\n",
    "\n",
    "# Update ECGdataset with scaled features\n",
    "ECGdataset['train'][:, 1:] = X_train_scaled\n",
    "ECGdataset['validation'][:, 1:] = X_val_scaled\n",
    "\n",
    "print(\"First sample after preprocessing:\")\n",
    "print(ECGdataset['train'][0][:10])"
   ]
  },
  {
   "cell_type": "code",
   "execution_count": 5,
   "id": "y0hMpWV68ZXX",
   "metadata": {
    "colab": {
     "base_uri": "https://localhost:8080/"
    },
    "id": "y0hMpWV68ZXX",
    "outputId": "70d4db00-d4fd-477f-c75c-6df21fde18cc"
   },
   "outputs": [
    {
     "name": "stdout",
     "output_type": "stream",
     "text": [
      "KNN classifier (k=5) has been trained successfully.\n",
      "Accuracy: 0.9220\n",
      "Precision: 0.9066\n",
      "Recall: 0.9220\n",
      "F1 Score: 0.9105\n",
      "AUROC: 0.9611\n",
      "\n",
      "Confusion Matrix:\n",
      "[[779   0   0   2   0]\n",
      " [ 17 560   4   9   0]\n",
      " [  8  17  14   4   0]\n",
      " [  5  36   3  30   1]\n",
      " [  5   6   0   0   0]]\n"
     ]
    }
   ],
   "source": [
    "from sklearn.neighbors import KNeighborsClassifier\n",
    "from sklearn.metrics import accuracy_score, precision_score, recall_score, f1_score, roc_auc_score, confusion_matrix\n",
    "\n",
    "# Extract features and labels\n",
    "X_train = ECGdataset['train'][:, 1:]\n",
    "y_train = ECGdataset['train'][:, 0]\n",
    "X_val = ECGdataset['validation'][:, 1:]\n",
    "y_val = ECGdataset['validation'][:, 0]\n",
    "\n",
    "# Train KNN classifier\n",
    "knn_classifier = KNeighborsClassifier(n_neighbors=5)\n",
    "knn_classifier.fit(X_train, y_train)\n",
    "print(\"KNN classifier (k=5) has been trained successfully.\")\n",
    "\n",
    "# Predict and evaluate\n",
    "y_pred = knn_classifier.predict(X_val)\n",
    "y_prob = knn_classifier.predict_proba(X_val)\n",
    "\n",
    "# Calculate metrics\n",
    "metrics = {\n",
    "    'Accuracy': accuracy_score(y_val, y_pred),\n",
    "    'Precision': precision_score(y_val, y_pred, average='weighted'),\n",
    "    'Recall': recall_score(y_val, y_pred, average='weighted'),\n",
    "    'F1 Score': f1_score(y_val, y_pred, average='weighted'),\n",
    "    'AUROC': roc_auc_score(y_val, y_prob, multi_class='ovr', average='weighted')\n",
    "}\n",
    "\n",
    "# Store confusion matrix\n",
    "cf_matrix = confusion_matrix(y_val, y_pred)\n",
    "\n",
    "# Print results\n",
    "for metric, value in metrics.items():\n",
    "    print(f\"{metric}: {value:.4f}\")\n",
    "print(\"\\nConfusion Matrix:\")\n",
    "print(cf_matrix)\n",
    "\n",
    "# Save model performance\n",
    "model_performance_knn = list(metrics.values())\n"
   ]
  },
  {
   "cell_type": "code",
   "execution_count": 6,
   "id": "c54607fd",
   "metadata": {
    "colab": {
     "base_uri": "https://localhost:8080/",
     "height": 466
    },
    "id": "c54607fd",
    "outputId": "922748ec-a2a8-4824-da8a-a97a4dbb5822"
   },
   "outputs": [
    {
     "data": {
      "text/plain": [
       "Text(50.722222222222214, 0.5, 'True Labels')"
      ]
     },
     "execution_count": 6,
     "metadata": {},
     "output_type": "execute_result"
    },
    {
     "data": {
      "image/png": "[encoded data removed]",
      "text/plain": [
       "<Figure size 640x480 with 2 Axes>"
      ]
     },
     "metadata": {},
     "output_type": "display_data"
    }
   ],
   "source": [
    "import seaborn as sns\n",
    "\n",
    "plt.figure(dpi=100)\n",
    "\n",
    "group_counts = [\"{0:0.0f}\".format(value) for value in cf_matrix.flatten()]\n",
    "group_percentages = [\"{0:.2%}\".format(value) for value in cf_matrix.flatten()/np.sum(cf_matrix)]\n",
    "labels = [f\"{v1}\\n{v2}\" for v1, v2, in zip(group_counts,group_percentages)]\n",
    "labels = np.asarray(labels).reshape(5,5)\n",
    "sns.heatmap(cf_matrix, annot=labels, fmt='', cmap='Blues')\n",
    "\n",
    "plt.xlabel('Predicted Labels')\n",
    "plt.ylabel('True Labels')"
   ]
  },
  {
   "cell_type": "code",
   "execution_count": null,
   "id": "c04f98fa-7ecb-4774-8c1d-b0aa354330d0",
   "metadata": {},
   "outputs": [],
   "source": []
  },
  {
   "cell_type": "code",
   "execution_count": null,
   "id": "d7c24819-da87-40af-aaa8-42023053eab1",
   "metadata": {},
   "outputs": [],
   "source": []
  }
 ],
 "metadata": {
  "colab": {
   "provenance": []
  },
  "kernelspec": {
   "display_name": "Python 3 (ipykernel)",
   "language": "python",
   "name": "python3"
  },
  "language_info": {
   "codemirror_mode": {
    "name": "ipython",
    "version": 3
   },
   "file_extension": ".py",
   "mimetype": "text/x-python",
   "name": "python",
   "nbconvert_exporter": "python",
   "pygments_lexer": "ipython3",
   "version": "3.13.1"
  },
  "toc": {
   "base_numbering": 1,
   "nav_menu": {},
   "number_sections": true,
   "sideBar": true,
   "skip_h1_title": false,
   "title_cell": "Table of Contents",
   "title_sidebar": "Contents",
   "toc_cell": false,
   "toc_position": {},
   "toc_section_display": true,
   "toc_window_display": false
  }
 },
 "nbformat": 4,
 "nbformat_minor": 5
}
